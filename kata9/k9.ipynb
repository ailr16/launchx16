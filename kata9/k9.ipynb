{
 "cells": [
  {
   "cell_type": "markdown",
   "metadata": {},
   "source": [
    "## Ejercicio 1 "
   ]
  },
  {
   "cell_type": "code",
   "execution_count": 56,
   "metadata": {},
   "outputs": [],
   "source": [
    "def informe_combustible(lec1, lec2, lec3):\n",
    "    return \"Promedio= \" + str((lec1 + lec2 + lec3)/3)"
   ]
  },
  {
   "cell_type": "code",
   "execution_count": 57,
   "metadata": {},
   "outputs": [
    {
     "name": "stdout",
     "output_type": "stream",
     "text": [
      "Promedio= 3.0\n"
     ]
    }
   ],
   "source": [
    "tanque1 = 1\n",
    "tanque2 = 2\n",
    "tanque3 = 6\n",
    "\n",
    "print(informe_combustible(tanque1, tanque2, tanque3))"
   ]
  },
  {
   "cell_type": "code",
   "execution_count": 58,
   "metadata": {},
   "outputs": [
    {
     "name": "stdout",
     "output_type": "stream",
     "text": [
      "Promedio= 3.0\n"
     ]
    }
   ],
   "source": [
    "def promedio(valores):\n",
    "    return sum(valores)/len(valores)\n",
    "\n",
    "def informe_combustible(lec1, lec2, lec3):\n",
    "    return \"Promedio= \" + str(promedio([lec1, lec2, lec3]))\n",
    "\n",
    "print(informe_combustible(tanque1, tanque2, tanque3))"
   ]
  },
  {
   "cell_type": "markdown",
   "metadata": {},
   "source": [
    "## Ejercicio 2"
   ]
  },
  {
   "cell_type": "code",
   "execution_count": 59,
   "metadata": {},
   "outputs": [
    {
     "name": "stdout",
     "output_type": "stream",
     "text": [
      "\n",
      "    Mision a Marte\n",
      "    Duracion de 48 horas\n",
      "    Combustible disponible 162\n",
      "    \n"
     ]
    }
   ],
   "source": [
    "def informe(hora_pre, tiempo, destino, tanque_e, tanque_i):\n",
    "    return f\"\"\"\n",
    "    Mision a {destino}\n",
    "    Duracion de {hora_pre + tiempo} horas\n",
    "    Combustible disponible {tanque_e + tanque_i}\n",
    "    \"\"\"\n",
    "\n",
    "print(informe(16, 32, \"Marte\", 80, 82))"
   ]
  },
  {
   "cell_type": "code",
   "execution_count": 60,
   "metadata": {},
   "outputs": [
    {
     "name": "stdout",
     "output_type": "stream",
     "text": [
      "\n",
      "    Mision a Marte\n",
      "    Duracion de 112 horas\n",
      "    Combustible disponible 162\n",
      "    \n"
     ]
    }
   ],
   "source": [
    "def informe2(destino, *tiempo, **tanques):\n",
    "    resultado = f\"\"\"\n",
    "    Mision a {destino}\n",
    "    Duracion de {sum(tiempo)} horas\n",
    "    Combustible disponible {sum(tanques.values())}\n",
    "    \"\"\"\n",
    "    return resultado\n",
    "\n",
    "print(informe2(\"Marte\", 16, 32, 64, externo=80, interno=82))"
   ]
  }
 ],
 "metadata": {
  "interpreter": {
   "hash": "669f5abd92f1a410df15b0643b9f42360e277a412fc08ae8bc7d7911cf7e8f3d"
  },
  "kernelspec": {
   "display_name": "Python 3.10.2 64-bit",
   "language": "python",
   "name": "python3"
  },
  "language_info": {
   "codemirror_mode": {
    "name": "ipython",
    "version": 3
   },
   "file_extension": ".py",
   "mimetype": "text/x-python",
   "name": "python",
   "nbconvert_exporter": "python",
   "pygments_lexer": "ipython3",
   "version": "3.10.2"
  },
  "orig_nbformat": 4
 },
 "nbformat": 4,
 "nbformat_minor": 2
}
