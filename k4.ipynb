{
 "cells": [
  {
   "cell_type": "markdown",
   "metadata": {},
   "source": [
    "## Ejercicio 1"
   ]
  },
  {
   "cell_type": "code",
   "execution_count": 120,
   "metadata": {},
   "outputs": [],
   "source": [
    "text = \"\"\"Interesting facts about the Moon. The Moon is Earth's only satellite. There are several interesting facts about the Moon and how it affects life here on Earth. \n",
    "On average, the Moon moves 4cm away from the Earth every year. This yearly drift is not significant enough to cause immediate effects on Earth. The highest daylight temperature of the Moon is 127 C.\"\"\""
   ]
  },
  {
   "cell_type": "markdown",
   "metadata": {},
   "source": [
    "Dividir en oraciones"
   ]
  },
  {
   "cell_type": "code",
   "execution_count": 121,
   "metadata": {},
   "outputs": [
    {
     "name": "stdout",
     "output_type": "stream",
     "text": [
      "['Interesting facts about the Moon', \" The Moon is Earth's only satellite\", ' There are several interesting facts about the Moon and how it affects life here on Earth', ' \\nOn average, the Moon moves 4cm away from the Earth every year', ' This yearly drift is not significant enough to cause immediate effects on Earth', ' The highest daylight temperature of the Moon is 127 C', '']\n"
     ]
    }
   ],
   "source": [
    "textD = text.split('.')\n",
    "print(textD)"
   ]
  },
  {
   "cell_type": "markdown",
   "metadata": {},
   "source": [
    "Palabras clave"
   ]
  },
  {
   "cell_type": "code",
   "execution_count": 122,
   "metadata": {},
   "outputs": [
    {
     "name": "stdout",
     "output_type": "stream",
     "text": [
      " \n",
      "On average, the Moon moves 4cm away from the Earth every year\n",
      " The highest daylight temperature of the Moon is 127 C\n"
     ]
    }
   ],
   "source": [
    "palabras = [\"average\", \"temperature\", \"distance\"]\n",
    "\n",
    "for sentence in textD:\n",
    "    for palabra in palabras:\n",
    "        if palabra in sentence:\n",
    "            print(sentence)\n",
    "            break"
   ]
  },
  {
   "cell_type": "markdown",
   "metadata": {},
   "source": [
    "Cambiar C a Celsius"
   ]
  },
  {
   "cell_type": "code",
   "execution_count": 123,
   "metadata": {},
   "outputs": [
    {
     "name": "stdout",
     "output_type": "stream",
     "text": [
      " \n",
      "On average, the Moon moves 4cm away from the Earth every year\n",
      " The highest daylight temperature of the Moon is 127 Celsius\n"
     ]
    }
   ],
   "source": [
    "for sentence in textD:\n",
    "    for palabra in palabras:\n",
    "        if palabra in sentence:\n",
    "            print(sentence.replace('C', 'Celsius'))\n",
    "            break"
   ]
  },
  {
   "cell_type": "markdown",
   "metadata": {},
   "source": [
    "## Ejercicio 2"
   ]
  },
  {
   "cell_type": "code",
   "execution_count": 124,
   "metadata": {},
   "outputs": [
    {
     "name": "stdout",
     "output_type": "stream",
     "text": [
      "Gravity facts about Moon \n",
      "--------------------------------------------------------------------------------\n",
      "Planet name: Earth\n",
      "Gravity on Moon: 1.6199999999999999 m/s2\n",
      "\n",
      "Gravity facts about Moon \n",
      "--------------------------------------------------------------------------------\n",
      "Planet name: Earth\n",
      "Gravity on Moon: 1.6199999999999999 m/s2\n",
      "\n",
      "Gravity facts about Marte\n",
      "-------------------------------------------------------------------------------\n",
      "Planet name: Ganimedes\n",
      "Gravity on Marte: 1.4300000000000002 m/s2\n",
      "\n"
     ]
    }
   ],
   "source": [
    "name = \"Moon\"\n",
    "gravity = 0.00162\n",
    "planet = \"Earth\"\n",
    "\n",
    "title = f'Gravity facts about {name}'\n",
    "hechos = f\"\"\"\n",
    "{'-'*80}\n",
    "Planet name: {planet}\n",
    "Gravity on {name}: {gravity*1000} m/s2\"\"\"\n",
    "\n",
    "template = f\"\"\"{title} {hechos}\"\"\"\n",
    "\n",
    "print(template)\n",
    "\n",
    "name = \"Marte\"\n",
    "gravity = 0.00143\n",
    "planet = \"Ganimedes\"\n",
    "\n",
    "print( \"\\n\" + template)\n",
    "\n",
    "new_template = \"\"\"\n",
    "Gravity facts about {nombre}\n",
    "-------------------------------------------------------------------------------\n",
    "Planet name: {planeta}\n",
    "Gravity on {nombre}: {gravedad} m/s2\n",
    "\"\"\"\n",
    "\n",
    "print(new_template.format(nombre=name, planeta=planet, gravedad=gravity*1000))"
   ]
  }
 ],
 "metadata": {
  "interpreter": {
   "hash": "669f5abd92f1a410df15b0643b9f42360e277a412fc08ae8bc7d7911cf7e8f3d"
  },
  "kernelspec": {
   "display_name": "Python 3.10.2 64-bit",
   "language": "python",
   "name": "python3"
  },
  "language_info": {
   "codemirror_mode": {
    "name": "ipython",
    "version": 3
   },
   "file_extension": ".py",
   "mimetype": "text/x-python",
   "name": "python",
   "nbconvert_exporter": "python",
   "pygments_lexer": "ipython3",
   "version": "3.10.2"
  },
  "orig_nbformat": 4
 },
 "nbformat": 4,
 "nbformat_minor": 2
}
