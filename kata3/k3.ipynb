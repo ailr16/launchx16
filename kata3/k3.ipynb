{
 "cells": [
  {
   "cell_type": "markdown",
   "metadata": {},
   "source": [
    "## Un asteroide se acerca y viaja a una velocidad de 49 km/s"
   ]
  },
  {
   "cell_type": "code",
   "execution_count": 11,
   "metadata": {},
   "outputs": [
    {
     "name": "stdout",
     "output_type": "stream",
     "text": [
      "Advertencia! Un asteroide se acerca rapidamente\n"
     ]
    }
   ],
   "source": [
    "velocidad = 49\n",
    "\n",
    "if velocidad > 25:\n",
    "    print(\"Advertencia! Un asteroide se acerca rapidamente\")"
   ]
  },
  {
   "cell_type": "markdown",
   "metadata": {},
   "source": [
    "## Un asteroide se dirige a la tierra a 19 km/s"
   ]
  },
  {
   "cell_type": "code",
   "execution_count": 12,
   "metadata": {},
   "outputs": [
    {
     "name": "stdout",
     "output_type": "stream",
     "text": [
      "Un asteroide ha entrado en la atmosfera, no sera visible\n"
     ]
    }
   ],
   "source": [
    "velocidad = 19\n",
    "\n",
    "if velocidad > 25:\n",
    "    print(\"Advertencia! Un asteroide se acerca rapidamente\")\n",
    "    \n",
    "if velocidad >= 20:\n",
    "    print(\"Un asteroide ha entrado en la atmosfera. Sera visible!\")\n",
    "else:\n",
    "    print(\"Un asteroide ha entrado en la atmosfera, no sera visible\")"
   ]
  },
  {
   "cell_type": "markdown",
   "metadata": {},
   "source": [
    "## Uso de operadores and y or\n"
   ]
  },
  {
   "cell_type": "code",
   "execution_count": 13,
   "metadata": {},
   "outputs": [
    {
     "name": "stdout",
     "output_type": "stream",
     "text": [
      "Alerta. Magnitud de daño alta!!\n",
      "Advertencia! Un asteroide se acerca rapidamente\n",
      "Un asteroide ha entrado en la atmosfera. Sera visible!\n"
     ]
    }
   ],
   "source": [
    "velocidad = 28\n",
    "tamano = 39\n",
    "\n",
    "if tamano < 25:\n",
    "    print(\"Sin riesgo\")\n",
    "elif tamano > 25 and tamano < 1000:\n",
    "    print(\"Alerta. Magnitud de daño alta!!\")\n",
    "\n",
    "if velocidad > 25:\n",
    "    print(\"Advertencia! Un asteroide se acerca rapidamente\")\n",
    "if velocidad >= 20:\n",
    "    print(\"Un asteroide ha entrado en la atmosfera. Sera visible!\")\n",
    "else:\n",
    "    print(\"Un asteroide ha entrado en la atmosfera, no sera visible\")"
   ]
  }
 ],
 "metadata": {
  "interpreter": {
   "hash": "669f5abd92f1a410df15b0643b9f42360e277a412fc08ae8bc7d7911cf7e8f3d"
  },
  "kernelspec": {
   "display_name": "Python 3.10.2 64-bit",
   "language": "python",
   "name": "python3"
  },
  "language_info": {
   "codemirror_mode": {
    "name": "ipython",
    "version": 3
   },
   "file_extension": ".py",
   "mimetype": "text/x-python",
   "name": "python",
   "nbconvert_exporter": "python",
   "pygments_lexer": "ipython3",
   "version": "3.10.2"
  },
  "orig_nbformat": 4
 },
 "nbformat": 4,
 "nbformat_minor": 2
}
